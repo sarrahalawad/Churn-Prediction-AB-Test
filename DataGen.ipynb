{
 "cells": [
  {
   "cell_type": "code",
   "execution_count": 9,
   "id": "b153e47c-d04f-467b-9e6e-aeba226f5ce3",
   "metadata": {},
   "outputs": [
    {
     "name": "stdout",
     "output_type": "stream",
     "text": [
      "Synthetic customer data saved to data/synthetic_customer_data.csv\n"
     ]
    }
   ],
   "source": [
    "## Data Generation \n",
    "\n",
    "import pandas as pd\n",
    "import numpy as np\n",
    "from datetime import timedelta, datetime\n",
    "import random\n",
    "\n",
    "np.random.seed(42)\n",
    "\n",
    "# generation of customer data (random)\n",
    "n_customers = 2000\n",
    "signup_dates = pd.date_range(start=\"2022-01-01\", end=\"2023-12-01\", periods=n_customers)\n",
    "customer_data = pd.DataFrame({\n",
    "    \"customer_id\": range(1, n_customers + 1),\n",
    "    \"age\": np.random.randint(18, 70, n_customers),\n",
    "    \"gender\": np.random.choice([\"Male\", \"Female\"], n_customers),\n",
    "    \"tenure_months\": np.random.randint(1, 24, n_customers),\n",
    "    \"monthly_usage_minutes\": np.random.normal(loc=400, scale=100, size=n_customers).astype(int),\n",
    "    \"signup_date\": signup_dates,\n",
    "    \"is_churned\": np.random.choice([0, 1], n_customers, p=[0.85, 0.15])\n",
    "})\n",
    "\n",
    "# Add revenue and campaign info\n",
    "customer_data[\"monthly_revenue\"] = np.where(\n",
    "    customer_data[\"is_churned\"] == 1,\n",
    "    np.random.normal(25, 5, n_customers),\n",
    "    np.random.normal(30, 8, n_customers)\n",
    ").round(2)\n",
    "\n",
    "# Simulate campaign: 50% control, 50% treatment\n",
    "customer_data[\"campaign_group\"] = np.random.choice([\"control\", \"treatment\"], n_customers)\n",
    "customer_data[\"converted\"] = np.where(\n",
    "    (customer_data[\"campaign_group\"] == \"treatment\") & \n",
    "    (customer_data[\"is_churned\"] == 0),\n",
    "    np.random.choice([0, 1], n_customers, p=[0.6, 0.4]),\n",
    "    np.random.choice([0, 1], n_customers, p=[0.8, 0.2])\n",
    ")\n",
    "\n",
    "# Save to CSV\n",
    "customer_data.to_csv(\"synthetic_customer_data.csv\", index=False)\n",
    "print(\"Synthetic customer data saved to data/synthetic_customer_data.csv\")"
   ]
  },
  {
   "cell_type": "code",
   "execution_count": 7,
   "id": "c9c99f2f-c5f6-49e6-aeb5-9bc48b1cbd14",
   "metadata": {},
   "outputs": [
    {
     "name": "stdout",
     "output_type": "stream",
     "text": [
      "/Users/sarrahabdalla/Marketing Analytics\n"
     ]
    }
   ],
   "source": [
    "!pwd"
   ]
  },
  {
   "cell_type": "code",
   "execution_count": 8,
   "id": "1eb6e471-fd0f-4709-bf24-3fa916dffe31",
   "metadata": {},
   "outputs": [
    {
     "name": "stdout",
     "output_type": "stream",
     "text": [
      "ABTest.ipynb                 DataGen.ipynb\n",
      "ABTest.txt                   synthetic_customer_data.csv\n",
      "Churn prediction model.ipynb\n"
     ]
    }
   ],
   "source": [
    "!ls"
   ]
  },
  {
   "cell_type": "code",
   "execution_count": null,
   "id": "f93bfea8-a2bb-4188-8deb-edc6d8a4d273",
   "metadata": {},
   "outputs": [],
   "source": []
  }
 ],
 "metadata": {
  "kernelspec": {
   "display_name": "Python 3 (ipykernel)",
   "language": "python",
   "name": "python3"
  },
  "language_info": {
   "codemirror_mode": {
    "name": "ipython",
    "version": 3
   },
   "file_extension": ".py",
   "mimetype": "text/x-python",
   "name": "python",
   "nbconvert_exporter": "python",
   "pygments_lexer": "ipython3",
   "version": "3.13.0"
  }
 },
 "nbformat": 4,
 "nbformat_minor": 5
}
